{
  "nbformat": 4,
  "nbformat_minor": 0,
  "metadata": {
    "colab": {
      "name": "CaculateTimeSinceLastTransaction.ipynb",
      "provenance": [],
      "collapsed_sections": [],
      "authorship_tag": "ABX9TyMIgAcKZ4CHxS8rAH9OA3HH",
      "include_colab_link": true
    },
    "kernelspec": {
      "name": "python3",
      "display_name": "Python 3"
    }
  },
  "cells": [
    {
      "cell_type": "markdown",
      "metadata": {
        "id": "view-in-github",
        "colab_type": "text"
      },
      "source": [
        "<a href=\"https://colab.research.google.com/github/sachinkun21/Predictive_Maintenance_using_ML_Microsoft_CaseStudy/blob/master/CaculateTimeSinceLastTransaction.ipynb\" target=\"_parent\"><img src=\"https://colab.research.google.com/assets/colab-badge.svg\" alt=\"Open In Colab\"/></a>"
      ]
    },
    {
      "cell_type": "markdown",
      "metadata": {
        "id": "RPGybJxUDcbY",
        "colab_type": "text"
      },
      "source": [
        "\n",
        "### Days Since Last Replacement from Maintenance\n",
        "A crucial data set in this example is the maintenance records which contain the information of component replacement records. Possible features from this data set can be, for example, the number of replacements of each component in the last 3 months to incorporate the frequency of replacements. However, more relevent information would be to calculate how long it has been since a component is last replaced as that would be expected to correlate better with component failures since the longer a component is used, the more degradation should be expected.\n",
        "\n",
        "As a side note, creating lagging features from maintenance data is not as straightforward as for telemetry and errors, so the features from this data are generated in a more custom way. This type of ad-hoc feature engineering is very common in predictive maintenance since domain knowledge plays a big role in understanding the predictors of a problem. In the following, the days since last component replacement are calculated for each component type as features from the maintenance data."
      ]
    },
    {
      "cell_type": "code",
      "metadata": {
        "id": "jUcN0Wq0DFJ4",
        "colab_type": "code",
        "colab": {
          "base_uri": "https://localhost:8080/",
          "height": 233
        },
        "outputId": "1ab3beb4-a8bf-4dc7-9f8f-219d67fa0ee0"
      },
      "source": [
        "import pandas as pd\n",
        "import numpy as np\n",
        "\n",
        "from google.colab import drive\n",
        "drive.mount('/gdrive')\n",
        "%cd /gdrive\n",
        "\n",
        "maint = pd.read_csv('My Drive/PDM_using_ML_Microsoft_CaseStudy/data/PdM_maint.csv')\n",
        "maint.head()"
      ],
      "execution_count": 1,
      "outputs": [
        {
          "output_type": "stream",
          "text": [
            "Drive already mounted at /gdrive; to attempt to forcibly remount, call drive.mount(\"/gdrive\", force_remount=True).\n",
            "/gdrive\n"
          ],
          "name": "stdout"
        },
        {
          "output_type": "execute_result",
          "data": {
            "text/html": [
              "<div>\n",
              "<style scoped>\n",
              "    .dataframe tbody tr th:only-of-type {\n",
              "        vertical-align: middle;\n",
              "    }\n",
              "\n",
              "    .dataframe tbody tr th {\n",
              "        vertical-align: top;\n",
              "    }\n",
              "\n",
              "    .dataframe thead th {\n",
              "        text-align: right;\n",
              "    }\n",
              "</style>\n",
              "<table border=\"1\" class=\"dataframe\">\n",
              "  <thead>\n",
              "    <tr style=\"text-align: right;\">\n",
              "      <th></th>\n",
              "      <th>datetime</th>\n",
              "      <th>machineID</th>\n",
              "      <th>comp</th>\n",
              "    </tr>\n",
              "  </thead>\n",
              "  <tbody>\n",
              "    <tr>\n",
              "      <th>0</th>\n",
              "      <td>2018-06-01 06:00:00</td>\n",
              "      <td>1</td>\n",
              "      <td>comp2</td>\n",
              "    </tr>\n",
              "    <tr>\n",
              "      <th>1</th>\n",
              "      <td>2018-07-16 06:00:00</td>\n",
              "      <td>1</td>\n",
              "      <td>comp4</td>\n",
              "    </tr>\n",
              "    <tr>\n",
              "      <th>2</th>\n",
              "      <td>2018-07-31 06:00:00</td>\n",
              "      <td>1</td>\n",
              "      <td>comp3</td>\n",
              "    </tr>\n",
              "    <tr>\n",
              "      <th>3</th>\n",
              "      <td>2018-12-13 06:00:00</td>\n",
              "      <td>1</td>\n",
              "      <td>comp1</td>\n",
              "    </tr>\n",
              "    <tr>\n",
              "      <th>4</th>\n",
              "      <td>2019-01-05 06:00:00</td>\n",
              "      <td>1</td>\n",
              "      <td>comp4</td>\n",
              "    </tr>\n",
              "  </tbody>\n",
              "</table>\n",
              "</div>"
            ],
            "text/plain": [
              "              datetime  machineID   comp\n",
              "0  2018-06-01 06:00:00          1  comp2\n",
              "1  2018-07-16 06:00:00          1  comp4\n",
              "2  2018-07-31 06:00:00          1  comp3\n",
              "3  2018-12-13 06:00:00          1  comp1\n",
              "4  2019-01-05 06:00:00          1  comp4"
            ]
          },
          "metadata": {
            "tags": []
          },
          "execution_count": 1
        }
      ]
    },
    {
      "cell_type": "code",
      "metadata": {
        "id": "u0E80iD7Eh1v",
        "colab_type": "code",
        "colab": {
          "base_uri": "https://localhost:8080/",
          "height": 158
        },
        "outputId": "b65fcf18-b5cb-41c6-ee9c-493dfbe1fd2c"
      },
      "source": [
        "maint.info()"
      ],
      "execution_count": 2,
      "outputs": [
        {
          "output_type": "stream",
          "text": [
            "<class 'pandas.core.frame.DataFrame'>\n",
            "RangeIndex: 3286 entries, 0 to 3285\n",
            "Data columns (total 3 columns):\n",
            "datetime     3286 non-null object\n",
            "machineID    3286 non-null int64\n",
            "comp         3286 non-null object\n",
            "dtypes: int64(1), object(2)\n",
            "memory usage: 77.1+ KB\n"
          ],
          "name": "stdout"
        }
      ]
    },
    {
      "cell_type": "code",
      "metadata": {
        "id": "DsM7Z8H2EmiA",
        "colab_type": "code",
        "colab": {}
      },
      "source": [
        "maint['datetime'] = pd.to_datetime(maint['datetime'], format='%Y-%m-%d %H:%M:%S')"
      ],
      "execution_count": 0,
      "outputs": []
    },
    {
      "cell_type": "code",
      "metadata": {
        "id": "OMsYbUu9DVLj",
        "colab_type": "code",
        "colab": {
          "base_uri": "https://localhost:8080/",
          "height": 197
        },
        "outputId": "3493f011-d6a9-462e-ff18-417547e0e13f"
      },
      "source": [
        "# create a column for each error type\n",
        "comp_rep = pd.get_dummies(maint.set_index('datetime')).reset_index()\n",
        "comp_rep.columns = ['datetime', 'machineID', 'comp1', 'comp2', 'comp3', 'comp4']\n",
        "\n",
        "# combine repairs for a given machine in a given hour\n",
        "comp_rep = comp_rep.groupby(['machineID', 'datetime']).sum().reset_index()\n",
        "comp_rep.head()"
      ],
      "execution_count": 4,
      "outputs": [
        {
          "output_type": "execute_result",
          "data": {
            "text/html": [
              "<div>\n",
              "<style scoped>\n",
              "    .dataframe tbody tr th:only-of-type {\n",
              "        vertical-align: middle;\n",
              "    }\n",
              "\n",
              "    .dataframe tbody tr th {\n",
              "        vertical-align: top;\n",
              "    }\n",
              "\n",
              "    .dataframe thead th {\n",
              "        text-align: right;\n",
              "    }\n",
              "</style>\n",
              "<table border=\"1\" class=\"dataframe\">\n",
              "  <thead>\n",
              "    <tr style=\"text-align: right;\">\n",
              "      <th></th>\n",
              "      <th>machineID</th>\n",
              "      <th>datetime</th>\n",
              "      <th>comp1</th>\n",
              "      <th>comp2</th>\n",
              "      <th>comp3</th>\n",
              "      <th>comp4</th>\n",
              "    </tr>\n",
              "  </thead>\n",
              "  <tbody>\n",
              "    <tr>\n",
              "      <th>0</th>\n",
              "      <td>1</td>\n",
              "      <td>2018-06-01 06:00:00</td>\n",
              "      <td>0</td>\n",
              "      <td>1</td>\n",
              "      <td>0</td>\n",
              "      <td>0</td>\n",
              "    </tr>\n",
              "    <tr>\n",
              "      <th>1</th>\n",
              "      <td>1</td>\n",
              "      <td>2018-07-16 06:00:00</td>\n",
              "      <td>0</td>\n",
              "      <td>0</td>\n",
              "      <td>0</td>\n",
              "      <td>1</td>\n",
              "    </tr>\n",
              "    <tr>\n",
              "      <th>2</th>\n",
              "      <td>1</td>\n",
              "      <td>2018-07-31 06:00:00</td>\n",
              "      <td>0</td>\n",
              "      <td>0</td>\n",
              "      <td>1</td>\n",
              "      <td>0</td>\n",
              "    </tr>\n",
              "    <tr>\n",
              "      <th>3</th>\n",
              "      <td>1</td>\n",
              "      <td>2018-12-13 06:00:00</td>\n",
              "      <td>1</td>\n",
              "      <td>0</td>\n",
              "      <td>0</td>\n",
              "      <td>0</td>\n",
              "    </tr>\n",
              "    <tr>\n",
              "      <th>4</th>\n",
              "      <td>1</td>\n",
              "      <td>2019-01-05 06:00:00</td>\n",
              "      <td>1</td>\n",
              "      <td>0</td>\n",
              "      <td>0</td>\n",
              "      <td>1</td>\n",
              "    </tr>\n",
              "  </tbody>\n",
              "</table>\n",
              "</div>"
            ],
            "text/plain": [
              "   machineID            datetime  comp1  comp2  comp3  comp4\n",
              "0          1 2018-06-01 06:00:00      0      1      0      0\n",
              "1          1 2018-07-16 06:00:00      0      0      0      1\n",
              "2          1 2018-07-31 06:00:00      0      0      1      0\n",
              "3          1 2018-12-13 06:00:00      1      0      0      0\n",
              "4          1 2019-01-05 06:00:00      1      0      0      1"
            ]
          },
          "metadata": {
            "tags": []
          },
          "execution_count": 4
        }
      ]
    },
    {
      "cell_type": "markdown",
      "metadata": {
        "id": "WL7JefCZEMv_",
        "colab_type": "text"
      },
      "source": [
        "Generate Date Time and Merge"
      ]
    },
    {
      "cell_type": "code",
      "metadata": {
        "id": "OwupMbj-DozX",
        "colab_type": "code",
        "colab": {}
      },
      "source": [
        ""
      ],
      "execution_count": 0,
      "outputs": []
    },
    {
      "cell_type": "code",
      "metadata": {
        "id": "t4VCd6m4D0Hu",
        "colab_type": "code",
        "colab": {
          "base_uri": "https://localhost:8080/",
          "height": 197
        },
        "outputId": "77eb8812-48eb-4376-d340-6f4b4a5a1cb6"
      },
      "source": [
        "components = ['comp1', 'comp2', 'comp3', 'comp4']\n",
        "\n",
        "for comp in components:\n",
        "    # convert indicator to most recent date of component change \n",
        "    comp_rep.loc[comp_rep[comp] < 1, comp] = None\n",
        "    \n",
        "    # Now We will replace all the Non Null values with Unix TimeStamp using datetime column\n",
        "    comp_rep.loc[-comp_rep[comp].isnull(), comp] = comp_rep.loc[-comp_rep[comp].isnull(), 'datetime']\n",
        "    \n",
        "    # Forward-fill the most-recent date of Component change\n",
        "    comp_rep[comp] = comp_rep[comp].fillna(method='ffill')\n",
        "\n",
        "\n",
        "comp_rep.head()"
      ],
      "execution_count": 5,
      "outputs": [
        {
          "output_type": "execute_result",
          "data": {
            "text/html": [
              "<div>\n",
              "<style scoped>\n",
              "    .dataframe tbody tr th:only-of-type {\n",
              "        vertical-align: middle;\n",
              "    }\n",
              "\n",
              "    .dataframe tbody tr th {\n",
              "        vertical-align: top;\n",
              "    }\n",
              "\n",
              "    .dataframe thead th {\n",
              "        text-align: right;\n",
              "    }\n",
              "</style>\n",
              "<table border=\"1\" class=\"dataframe\">\n",
              "  <thead>\n",
              "    <tr style=\"text-align: right;\">\n",
              "      <th></th>\n",
              "      <th>machineID</th>\n",
              "      <th>datetime</th>\n",
              "      <th>comp1</th>\n",
              "      <th>comp2</th>\n",
              "      <th>comp3</th>\n",
              "      <th>comp4</th>\n",
              "    </tr>\n",
              "  </thead>\n",
              "  <tbody>\n",
              "    <tr>\n",
              "      <th>0</th>\n",
              "      <td>1</td>\n",
              "      <td>2018-06-01 06:00:00</td>\n",
              "      <td>NaN</td>\n",
              "      <td>1527832800000000000</td>\n",
              "      <td>NaN</td>\n",
              "      <td>NaN</td>\n",
              "    </tr>\n",
              "    <tr>\n",
              "      <th>1</th>\n",
              "      <td>1</td>\n",
              "      <td>2018-07-16 06:00:00</td>\n",
              "      <td>NaN</td>\n",
              "      <td>1527832800000000000</td>\n",
              "      <td>NaN</td>\n",
              "      <td>1.531721e+18</td>\n",
              "    </tr>\n",
              "    <tr>\n",
              "      <th>2</th>\n",
              "      <td>1</td>\n",
              "      <td>2018-07-31 06:00:00</td>\n",
              "      <td>NaN</td>\n",
              "      <td>1527832800000000000</td>\n",
              "      <td>1.533017e+18</td>\n",
              "      <td>1.531721e+18</td>\n",
              "    </tr>\n",
              "    <tr>\n",
              "      <th>3</th>\n",
              "      <td>1</td>\n",
              "      <td>2018-12-13 06:00:00</td>\n",
              "      <td>1.544681e+18</td>\n",
              "      <td>1527832800000000000</td>\n",
              "      <td>1.533017e+18</td>\n",
              "      <td>1.531721e+18</td>\n",
              "    </tr>\n",
              "    <tr>\n",
              "      <th>4</th>\n",
              "      <td>1</td>\n",
              "      <td>2019-01-05 06:00:00</td>\n",
              "      <td>1.546668e+18</td>\n",
              "      <td>1527832800000000000</td>\n",
              "      <td>1.533017e+18</td>\n",
              "      <td>1.546668e+18</td>\n",
              "    </tr>\n",
              "  </tbody>\n",
              "</table>\n",
              "</div>"
            ],
            "text/plain": [
              "   machineID            datetime  ...         comp3         comp4\n",
              "0          1 2018-06-01 06:00:00  ...           NaN           NaN\n",
              "1          1 2018-07-16 06:00:00  ...           NaN  1.531721e+18\n",
              "2          1 2018-07-31 06:00:00  ...  1.533017e+18  1.531721e+18\n",
              "3          1 2018-12-13 06:00:00  ...  1.533017e+18  1.531721e+18\n",
              "4          1 2019-01-05 06:00:00  ...  1.533017e+18  1.546668e+18\n",
              "\n",
              "[5 rows x 6 columns]"
            ]
          },
          "metadata": {
            "tags": []
          },
          "execution_count": 5
        }
      ]
    },
    {
      "cell_type": "code",
      "metadata": {
        "id": "ekO23iVWH4Kn",
        "colab_type": "code",
        "colab": {
          "base_uri": "https://localhost:8080/",
          "height": 197
        },
        "outputId": "0512be7b-ef5d-41ca-c3a0-176482493c9a"
      },
      "source": [
        "# remove dates in 2018 (may have NaN or future component change dates)    \n",
        "comp_rep = comp_rep.loc[comp_rep['datetime'] > pd.to_datetime('2019-01-01')]\n",
        "comp_rep.head()"
      ],
      "execution_count": 6,
      "outputs": [
        {
          "output_type": "execute_result",
          "data": {
            "text/html": [
              "<div>\n",
              "<style scoped>\n",
              "    .dataframe tbody tr th:only-of-type {\n",
              "        vertical-align: middle;\n",
              "    }\n",
              "\n",
              "    .dataframe tbody tr th {\n",
              "        vertical-align: top;\n",
              "    }\n",
              "\n",
              "    .dataframe thead th {\n",
              "        text-align: right;\n",
              "    }\n",
              "</style>\n",
              "<table border=\"1\" class=\"dataframe\">\n",
              "  <thead>\n",
              "    <tr style=\"text-align: right;\">\n",
              "      <th></th>\n",
              "      <th>machineID</th>\n",
              "      <th>datetime</th>\n",
              "      <th>comp1</th>\n",
              "      <th>comp2</th>\n",
              "      <th>comp3</th>\n",
              "      <th>comp4</th>\n",
              "    </tr>\n",
              "  </thead>\n",
              "  <tbody>\n",
              "    <tr>\n",
              "      <th>4</th>\n",
              "      <td>1</td>\n",
              "      <td>2019-01-05 06:00:00</td>\n",
              "      <td>1.546668e+18</td>\n",
              "      <td>1527832800000000000</td>\n",
              "      <td>1.533017e+18</td>\n",
              "      <td>1.546668e+18</td>\n",
              "    </tr>\n",
              "    <tr>\n",
              "      <th>5</th>\n",
              "      <td>1</td>\n",
              "      <td>2019-01-20 06:00:00</td>\n",
              "      <td>1.547964e+18</td>\n",
              "      <td>1527832800000000000</td>\n",
              "      <td>1.547964e+18</td>\n",
              "      <td>1.546668e+18</td>\n",
              "    </tr>\n",
              "    <tr>\n",
              "      <th>6</th>\n",
              "      <td>1</td>\n",
              "      <td>2019-02-04 06:00:00</td>\n",
              "      <td>1.547964e+18</td>\n",
              "      <td>1527832800000000000</td>\n",
              "      <td>1.549260e+18</td>\n",
              "      <td>1.549260e+18</td>\n",
              "    </tr>\n",
              "    <tr>\n",
              "      <th>7</th>\n",
              "      <td>1</td>\n",
              "      <td>2019-02-19 06:00:00</td>\n",
              "      <td>1.547964e+18</td>\n",
              "      <td>1527832800000000000</td>\n",
              "      <td>1.550556e+18</td>\n",
              "      <td>1.549260e+18</td>\n",
              "    </tr>\n",
              "    <tr>\n",
              "      <th>8</th>\n",
              "      <td>1</td>\n",
              "      <td>2019-03-06 06:00:00</td>\n",
              "      <td>1.551852e+18</td>\n",
              "      <td>1527832800000000000</td>\n",
              "      <td>1.550556e+18</td>\n",
              "      <td>1.549260e+18</td>\n",
              "    </tr>\n",
              "  </tbody>\n",
              "</table>\n",
              "</div>"
            ],
            "text/plain": [
              "   machineID            datetime  ...         comp3         comp4\n",
              "4          1 2019-01-05 06:00:00  ...  1.533017e+18  1.546668e+18\n",
              "5          1 2019-01-20 06:00:00  ...  1.547964e+18  1.546668e+18\n",
              "6          1 2019-02-04 06:00:00  ...  1.549260e+18  1.549260e+18\n",
              "7          1 2019-02-19 06:00:00  ...  1.550556e+18  1.549260e+18\n",
              "8          1 2019-03-06 06:00:00  ...  1.550556e+18  1.549260e+18\n",
              "\n",
              "[5 rows x 6 columns]"
            ]
          },
          "metadata": {
            "tags": []
          },
          "execution_count": 6
        }
      ]
    },
    {
      "cell_type": "code",
      "metadata": {
        "id": "Q97ys2TYEGd5",
        "colab_type": "code",
        "colab": {
          "base_uri": "https://localhost:8080/",
          "height": 197
        },
        "outputId": "63fcb27f-795a-47c4-d1cb-7013dbf74676"
      },
      "source": [
        "# replace dates of most recent component change with Number of days since most recent component change\n",
        "for comp in components:\n",
        "    comp_rep[comp] = (comp_rep['datetime'].astype(int) - comp_rep[comp]) / (24*60*60*1000000000)\n",
        "    #comp_rep[comp] =  pd.to_timedelta(comp_rep[comp].astype(str), unit='D')\n",
        "comp_rep.head()"
      ],
      "execution_count": 7,
      "outputs": [
        {
          "output_type": "execute_result",
          "data": {
            "text/html": [
              "<div>\n",
              "<style scoped>\n",
              "    .dataframe tbody tr th:only-of-type {\n",
              "        vertical-align: middle;\n",
              "    }\n",
              "\n",
              "    .dataframe tbody tr th {\n",
              "        vertical-align: top;\n",
              "    }\n",
              "\n",
              "    .dataframe thead th {\n",
              "        text-align: right;\n",
              "    }\n",
              "</style>\n",
              "<table border=\"1\" class=\"dataframe\">\n",
              "  <thead>\n",
              "    <tr style=\"text-align: right;\">\n",
              "      <th></th>\n",
              "      <th>machineID</th>\n",
              "      <th>datetime</th>\n",
              "      <th>comp1</th>\n",
              "      <th>comp2</th>\n",
              "      <th>comp3</th>\n",
              "      <th>comp4</th>\n",
              "    </tr>\n",
              "  </thead>\n",
              "  <tbody>\n",
              "    <tr>\n",
              "      <th>4</th>\n",
              "      <td>1</td>\n",
              "      <td>2019-01-05 06:00:00</td>\n",
              "      <td>0.0</td>\n",
              "      <td>218.0</td>\n",
              "      <td>158.0</td>\n",
              "      <td>0.0</td>\n",
              "    </tr>\n",
              "    <tr>\n",
              "      <th>5</th>\n",
              "      <td>1</td>\n",
              "      <td>2019-01-20 06:00:00</td>\n",
              "      <td>0.0</td>\n",
              "      <td>233.0</td>\n",
              "      <td>0.0</td>\n",
              "      <td>15.0</td>\n",
              "    </tr>\n",
              "    <tr>\n",
              "      <th>6</th>\n",
              "      <td>1</td>\n",
              "      <td>2019-02-04 06:00:00</td>\n",
              "      <td>15.0</td>\n",
              "      <td>248.0</td>\n",
              "      <td>0.0</td>\n",
              "      <td>0.0</td>\n",
              "    </tr>\n",
              "    <tr>\n",
              "      <th>7</th>\n",
              "      <td>1</td>\n",
              "      <td>2019-02-19 06:00:00</td>\n",
              "      <td>30.0</td>\n",
              "      <td>263.0</td>\n",
              "      <td>0.0</td>\n",
              "      <td>15.0</td>\n",
              "    </tr>\n",
              "    <tr>\n",
              "      <th>8</th>\n",
              "      <td>1</td>\n",
              "      <td>2019-03-06 06:00:00</td>\n",
              "      <td>0.0</td>\n",
              "      <td>278.0</td>\n",
              "      <td>15.0</td>\n",
              "      <td>30.0</td>\n",
              "    </tr>\n",
              "  </tbody>\n",
              "</table>\n",
              "</div>"
            ],
            "text/plain": [
              "   machineID            datetime  comp1  comp2  comp3  comp4\n",
              "4          1 2019-01-05 06:00:00    0.0  218.0  158.0    0.0\n",
              "5          1 2019-01-20 06:00:00    0.0  233.0    0.0   15.0\n",
              "6          1 2019-02-04 06:00:00   15.0  248.0    0.0    0.0\n",
              "7          1 2019-02-19 06:00:00   30.0  263.0    0.0   15.0\n",
              "8          1 2019-03-06 06:00:00    0.0  278.0   15.0   30.0"
            ]
          },
          "metadata": {
            "tags": []
          },
          "execution_count": 7
        }
      ]
    },
    {
      "cell_type": "code",
      "metadata": {
        "id": "T15VD67bJAO_",
        "colab_type": "code",
        "colab": {}
      },
      "source": [
        ""
      ],
      "execution_count": 0,
      "outputs": []
    }
  ]
}